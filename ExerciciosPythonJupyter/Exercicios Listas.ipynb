{
 "cells": [
  {
   "cell_type": "markdown",
   "metadata": {},
   "source": [
    "## Exercicios Listas"
   ]
  },
  {
   "cell_type": "code",
   "execution_count": 3,
   "metadata": {},
   "outputs": [
    {
     "name": "stdout",
     "output_type": "stream",
     "text": [
      "Digite o número: 4\n",
      "Digite o número: 2\n",
      "Digite o número: 7\n",
      "Digite o número: 5\n",
      "Digite o número: 4\n",
      "[4, 2, 7, 5, 4]\n"
     ]
    }
   ],
   "source": [
    "# 1 - Faça um Programa que leia um vetor de 5 números inteiros e mostre-os.\n",
    "lista1 = []\n",
    "for i in range(0, 5):\n",
    "    ler = int(input('Digite o número: '))\n",
    "    lista1.append(ler)\n",
    "print(lista1)"
   ]
  },
  {
   "cell_type": "code",
   "execution_count": 21,
   "metadata": {},
   "outputs": [
    {
     "name": "stdout",
     "output_type": "stream",
     "text": [
      "10 9 8 7 6 5 4 3 2 1 "
     ]
    }
   ],
   "source": [
    "# 2 - Faça um Programa que leia um vetor de 10 números reais e mostre-os na ordem inversa.\n",
    "\n",
    "lista2 = []\n",
    "for i in range(1, 11):\n",
    "    lista2.append(i)\n",
    "for i in reversed(lista2):\n",
    "    print(i, end = ' ')"
   ]
  },
  {
   "cell_type": "code",
   "execution_count": 25,
   "metadata": {},
   "outputs": [
    {
     "name": "stdout",
     "output_type": "stream",
     "text": [
      "Digite a nota: 4\n",
      "Digite a nota: 8\n",
      "Digite a nota: 7\n",
      "Digite a nota: 5\n",
      "Média: 6.0\n"
     ]
    }
   ],
   "source": [
    "# 3 - Faça um Programa que leia 4 notas, mostre as notas e a média na tela.\n",
    "notas = []\n",
    "for i in range(0, 4):\n",
    "    notas.append(float(input('Digite a nota: ')))\n",
    "soma = sum(notas)\n",
    "media = soma/4\n",
    "print(f'Média: {media:.1f}')"
   ]
  },
  {
   "cell_type": "code",
   "execution_count": 28,
   "metadata": {},
   "outputs": [
    {
     "name": "stdout",
     "output_type": "stream",
     "text": [
      "Digite a frase: testando\n",
      "t s t n d \n",
      "Foram encontradas 5 consoantes\n"
     ]
    }
   ],
   "source": [
    "# 4 - Faça um Programa que leia um vetor de 10 caracteres, \n",
    "# e diga quantas consoantes foram lidas. Imprima as consoantes.\n",
    "cont = 0\n",
    "frase = input('Digite a frase: ')\n",
    "for i in frase:\n",
    "    if i in 'qwrtypsdfghjklçzxcvbnm':\n",
    "        print(i, end = ' ')\n",
    "        cont += 1\n",
    "print(f'\\nForam encontradas {cont} consoantes')"
   ]
  },
  {
   "cell_type": "code",
   "execution_count": 29,
   "metadata": {},
   "outputs": [
    {
     "name": "stdout",
     "output_type": "stream",
     "text": [
      "Vetor Inicial: [1, 2, 3, 4, 5, 6, 7, 8, 9, 10, 11, 12, 13, 14, 15, 16, 17, 18, 19, 20]\n",
      "Vetor pares: [2, 4, 6, 8, 10, 12, 14, 16, 18, 20]\n",
      "Vetor impares: [1, 3, 5, 7, 9, 11, 13, 15, 17, 19]\n"
     ]
    }
   ],
   "source": [
    "# 5 - Faça um Programa que leia 20 números inteiros e armazene-os num vetor. \n",
    "# Armazene os números pares no vetor PAR e os números IMPARES no vetor impar. \n",
    "# Imprima os três vetores.\n",
    "\n",
    "lista3 = []\n",
    "pares = []\n",
    "impares = []\n",
    "\n",
    "for i in range(1, 21):\n",
    "    lista3.append(i)\n",
    "    \n",
    "for i in lista3:\n",
    "    if i%2 == 0:\n",
    "        pares.append(i)\n",
    "    else:\n",
    "        impares.append(i)\n",
    "print(f'Vetor Inicial: {lista3}')\n",
    "print(f'Vetor pares: {pares}')\n",
    "print(f'Vetor impares: {impares}')"
   ]
  },
  {
   "cell_type": "code",
   "execution_count": 39,
   "metadata": {},
   "outputs": [
    {
     "name": "stdout",
     "output_type": "stream",
     "text": [
      "Digite a primeira nota: 7\n",
      "Digite a segunda nota: 7\n",
      "Digite a terceira nota: 7\n",
      "Digite a quarta nota: 7\n",
      "Nota armazenada!\n",
      "\n",
      "Digite a primeira nota: 6\n",
      "Digite a segunda nota: 8\n",
      "Digite a terceira nota: 7\n",
      "Digite a quarta nota: 9\n",
      "Nota armazenada!\n",
      "\n",
      "Digite a primeira nota: 10\n",
      "Digite a segunda nota: 8\n",
      "Digite a terceira nota: 7\n",
      "Digite a quarta nota: 9\n",
      "Nota armazenada!\n",
      "\n",
      "Digite a primeira nota: 7\n",
      "Digite a segunda nota: 6\n",
      "Digite a terceira nota: 8\n",
      "Digite a quarta nota: 9\n",
      "Nota armazenada!\n",
      "\n",
      "Digite a primeira nota: 5\n",
      "Digite a segunda nota: 8\n",
      "Digite a terceira nota: 9\n",
      "Digite a quarta nota: 10\n",
      "Nota armazenada!\n",
      "\n",
      "Total de alunos com nota igual ou maior que 7: 5\n"
     ]
    }
   ],
   "source": [
    "# 6 - Faça um Programa que peça as quatro notas de 10 alunos, \n",
    "# calcule e armazene num vetor a média de cada aluno, \n",
    "# imprima o número de alunos com média maior ou igual a 7.0.\n",
    "\n",
    "notas = []\n",
    "cont = 0\n",
    "for i in range(0, 5):\n",
    "    nota1 = float(input('Digite a primeira nota: '))\n",
    "    nota2 = float(input('Digite a segunda nota: '))\n",
    "    nota3 = float(input('Digite a terceira nota: '))\n",
    "    nota4 = float(input('Digite a quarta nota: '))\n",
    "    media = round((nota1+nota2+nota3+nota4)/4, 1)\n",
    "    notas.append(media)\n",
    "    print('Nota armazenada!\\n')\n",
    "for i in notas:\n",
    "    if i >= 7:\n",
    "        cont += 1\n",
    "print(f'Total de alunos com nota igual ou maior que 7: {cont}')"
   ]
  },
  {
   "cell_type": "code",
   "execution_count": 54,
   "metadata": {},
   "outputs": [
    {
     "name": "stdout",
     "output_type": "stream",
     "text": [
      "Números: [1, 2, 5, 5, 10]\n",
      "Soma: 23\n",
      "Multiplicação: 500\n"
     ]
    }
   ],
   "source": [
    "# 7 - Faça um Programa que leia um vetor de 5 números inteiros, \n",
    "# mostre a soma, a multiplicação e os números.\n",
    "from random import randint\n",
    "from numpy import prod\n",
    "\n",
    "inteiros = []\n",
    "\n",
    "for i in range(0, 5):\n",
    "    inteiros.append(randint(1, 10))\n",
    "    inteiros.sort()\n",
    "print(f'Números: {inteiros}')\n",
    "print(f'Soma: {sum(inteiros)}')\n",
    "print(f'Multiplicação: {prod(inteiros)}')"
   ]
  },
  {
   "cell_type": "code",
   "execution_count": 72,
   "metadata": {},
   "outputs": [
    {
     "name": "stdout",
     "output_type": "stream",
     "text": [
      "Idades: [41, 52, 50, 2, 9]\n",
      "Idades invertidas:  9 2 50 52 41 \n",
      "\n",
      "Alturas: [1.87, 1.93, 1.67, 1.85, 1.58]\n",
      "Alturas invertidas: 1.58 1.85 1.67 1.93 1.87 "
     ]
    }
   ],
   "source": [
    "# 8 - Faça um Programa que peça a idade e a altura de 5 pessoas, \n",
    "# armazene cada informação no seu respectivo vetor. \n",
    "# Imprima a idade e a altura na ordem inversa a ordem lida.\n",
    "from random import randint, uniform\n",
    "idade = []\n",
    "altura = []\n",
    "for i in range(0, 5):\n",
    "    idade.append(randint(1, 60))\n",
    "    altura.append(round(uniform(1.50, 2), 2))\n",
    "\n",
    "print(f'Idades: {idade}')\n",
    "print('Idades invertidas: ', end =' ')\n",
    "for i in reversed(idade): print(i, end = ' ')\n",
    "print()    \n",
    "print(f'\\nAlturas: {altura}')\n",
    "print('Alturas invertidas:', end =' ')\n",
    "for i in reversed(altura): print(i, end = ' ')\n"
   ]
  },
  {
   "cell_type": "code",
   "execution_count": 84,
   "metadata": {},
   "outputs": [
    {
     "name": "stdout",
     "output_type": "stream",
     "text": [
      "[8, 6, 10, 1, 10]\n"
     ]
    },
    {
     "data": {
      "text/plain": [
       "301"
      ]
     },
     "execution_count": 84,
     "metadata": {},
     "output_type": "execute_result"
    }
   ],
   "source": [
    "# 9 - Faça um Programa que leia um vetor A com 10 números inteiros, \n",
    "# calcule e mostre a soma dos quadrados dos elementos do vetor.\n",
    "from random import randint\n",
    "from math import pow\n",
    "vetor_a = []\n",
    "soma = 0\n",
    "for i in range(0, 5):\n",
    "    vetor_a.append(randint(1, 10))\n",
    "for i in vetor_a:\n",
    "    soma = int(soma + pow(i, 2))\n",
    "print(vetor_a)\n",
    "soma #4 81 64 25 49"
   ]
  },
  {
   "cell_type": "code",
   "execution_count": 89,
   "metadata": {},
   "outputs": [
    {
     "name": "stdout",
     "output_type": "stream",
     "text": [
      "Vetor 1: [16, 19, 12, 12, 26, 20, 16, 27, 24, 43]\n",
      "Vetor 2: [43, 45, 50, 50, 24, 40, 26, 8, 31, 15]\n",
      "Vetor 3: [16, 43, 19, 45, 12, 50, 12, 50, 26, 24, 20, 40, 16, 26, 27, 8, 24, 31, 43, 15]\n"
     ]
    }
   ],
   "source": [
    "# 10 - Faça um Programa que leia dois vetores com 10 elementos cada. \n",
    "# Gere um terceiro vetor de 20 elementos, cujos valores deverão ser compostos \n",
    "# pelos elementos intercalados dos dois outros vetores.\n",
    "from random import randint\n",
    "vetor1 = []\n",
    "vetor2 = []\n",
    "vetor3 = []\n",
    "for i in range(0, 10):\n",
    "    vetor1.append(randint(0, 50))\n",
    "    vetor2.append(randint(0, 50))\n",
    "    \n",
    "for i in range(0, 10):\n",
    "    vetor3.append(vetor1[i])       \n",
    "    vetor3.append(vetor2[i])\n",
    "\n",
    "print(f'Vetor 1: {vetor1}')\n",
    "print(f'Vetor 2: {vetor2}')\n",
    "print(f'Vetor 3: {vetor3}')"
   ]
  },
  {
   "cell_type": "code",
   "execution_count": 91,
   "metadata": {},
   "outputs": [
    {
     "name": "stdout",
     "output_type": "stream",
     "text": [
      "Vetor 1: [32, 23, 40, 6, 7, 23, 32, 20, 2, 24]\n",
      "Vetor 2: [16, 36, 30, 44, 40, 2, 11, 10, 22, 7]\n",
      "Vetor 3: [36, 14, 42, 5, 25, 19, 37, 40, 38, 45]\n",
      "Vetor 4: [32, 16, 36, 23, 36, 14, 40, 30, 42, 6, 44, 5, 7, 40, 25, 23, 2, 19, 32, 11, 37, 20, 10, 40, 2, 22, 38, 24, 7, 45]\n"
     ]
    }
   ],
   "source": [
    "# 11 - Altere o programa anterior, intercalando 3 vetores de 10 elementos cada.\n",
    "from random import randint\n",
    "vetor1 = []\n",
    "vetor2 = []\n",
    "vetor3 = []\n",
    "vetor4 = []\n",
    "for i in range(0, 10):\n",
    "    vetor1.append(randint(0, 50))\n",
    "    vetor2.append(randint(0, 50))\n",
    "    vetor3.append(randint(0, 50))\n",
    "    \n",
    "for i in range(0, 10):\n",
    "    vetor4.append(vetor1[i])       \n",
    "    vetor4.append(vetor2[i])\n",
    "    vetor4.append(vetor3[i])\n",
    "\n",
    "print(f'Vetor 1: {vetor1}')\n",
    "print(f'Vetor 2: {vetor2}')\n",
    "print(f'Vetor 3: {vetor3}')\n",
    "print(f'Vetor 4: {vetor4}')"
   ]
  },
  {
   "cell_type": "code",
   "execution_count": null,
   "metadata": {},
   "outputs": [],
   "source": []
  }
 ],
 "metadata": {
  "kernelspec": {
   "display_name": "Python 3",
   "language": "python",
   "name": "python3"
  },
  "language_info": {
   "codemirror_mode": {
    "name": "ipython",
    "version": 3
   },
   "file_extension": ".py",
   "mimetype": "text/x-python",
   "name": "python",
   "nbconvert_exporter": "python",
   "pygments_lexer": "ipython3",
   "version": "3.7.6"
  }
 },
 "nbformat": 4,
 "nbformat_minor": 4
}
