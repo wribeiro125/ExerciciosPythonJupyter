{
 "cells": [
  {
   "cell_type": "markdown",
   "metadata": {},
   "source": [
    "# Exercícios de Estrutura Sequencial"
   ]
  },
  {
   "cell_type": "code",
   "execution_count": null,
   "metadata": {},
   "outputs": [],
   "source": [
    "# 1 - Faça um Programa que mostre a mensagem \"Alo mundo\" na tela.\n",
    "print('Alo mundo')"
   ]
  },
  {
   "cell_type": "code",
   "execution_count": null,
   "metadata": {},
   "outputs": [],
   "source": [
    "#2 - Faça um Programa que peça um número e então mostre a mensagem O número informado foi [número].\n",
    "numero = input('Dgite um número: ')\n",
    "print(f'O número informado foi: {numero}')"
   ]
  },
  {
   "cell_type": "code",
   "execution_count": null,
   "metadata": {},
   "outputs": [],
   "source": [
    "# 3 -Faça um Programa que peça dois números e imprima a soma.\n",
    "n1 = int(input('Digite um número: '))\n",
    "n2 = int(input('Digite outro número: '))\n",
    "print(f'A soma é: {n1+n2}')"
   ]
  },
  {
   "cell_type": "code",
   "execution_count": null,
   "metadata": {},
   "outputs": [],
   "source": [
    "# 4 - Faça um Programa que peça as 4 notas bimestrais e mostre a média.\n",
    "\n",
    "n1 = float(input('Digite a primeira nota: '))\n",
    "n2 = float(input('Digite a segunda nota: '))\n",
    "n3 = float(input('Digite a terceira nota: '))\n",
    "n4 = float(input('Digite a quarta nota: '))\n",
    "media = (n1+n2+n3+n4)/4\n",
    "print(f'A média final foi: {media}')"
   ]
  },
  {
   "cell_type": "code",
   "execution_count": null,
   "metadata": {},
   "outputs": [],
   "source": [
    "# 5 - Faça um Programa que converta metros para centímetros.\n",
    "\n",
    "def metro_para_centrimetro(metro):\n",
    "    return print( f'{metro*100}cm')\n",
    "\n",
    "metro_para_centrimetro(110)"
   ]
  },
  {
   "cell_type": "code",
   "execution_count": null,
   "metadata": {},
   "outputs": [],
   "source": [
    "# 6 - Faça um Programa que peça o raio de um círculo, calcule e mostre sua área.\n",
    "from math import pi, pow\n",
    "\n",
    "def area_circulo(raio):\n",
    "    return pi * pow(raio, 2)\n",
    "\n",
    "area_circulo(50)"
   ]
  },
  {
   "cell_type": "code",
   "execution_count": null,
   "metadata": {},
   "outputs": [],
   "source": [
    "# 7 - Faça um Programa que calcule a área de um quadrado,\n",
    "# em seguida mostre o dobro desta área para o usuário.\n",
    "\n",
    "def calcula_area_quadrado(lado):\n",
    "    return pow(lado, 2)\n",
    "\n",
    "print(f'Dobro da área: {calcula_area_quadrado(5) * 2}')"
   ]
  },
  {
   "cell_type": "code",
   "execution_count": null,
   "metadata": {},
   "outputs": [],
   "source": [
    "# 8 - Faça um Programa que pergunte quanto você ganha por hora e o número de horas \n",
    "# trabalhadas no mês. Calcule e mostre o total do seu salário no referido mês.\n",
    "\n",
    "\n",
    "valor_hora = float(input('Valor por hora: '))\n",
    "horas_mensais = float(input('Horas trabalhadas no mês: '))\n",
    "salario = lambda x, y: x * y\n",
    "print(f'Salario: R${salario(valor_hora, horas_mensais)}')"
   ]
  },
  {
   "cell_type": "code",
   "execution_count": null,
   "metadata": {},
   "outputs": [],
   "source": [
    "# 9 - Faça um Programa que peça a temperatura em graus Farenheit, \n",
    "# transforme e mostre a temperatura em graus Celsius.\n",
    "# C = (5 * (F-32) / 9).\n",
    "\n",
    "Farenheit = float(input('Temperatura em Farenheit: '))\n",
    "Celsius = lambda f: 5 * (f-32) / 9\n",
    "print(f'temperatura em Celsius: {Celsius(Farenheit):.1f}C°')"
   ]
  },
  {
   "cell_type": "code",
   "execution_count": null,
   "metadata": {},
   "outputs": [],
   "source": [
    "# 10 - Faça um Programa que peça a temperatura em graus Celsius, \n",
    "# transforme e mostre em graus Farenheit.\n",
    "\n",
    "Celsius = float(input('Temperatura em Celsius: '))\n",
    "Farenheit = lambda c: (c * 9/5) + 32\n",
    "print(f'temperatura em Farenheit: {Farenheit(Celsius):.1f}F°')"
   ]
  },
  {
   "cell_type": "code",
   "execution_count": null,
   "metadata": {},
   "outputs": [],
   "source": [
    "# 11 - Faça um Programa que peça 2 números inteiros e um número real. Calcule e mostre:\n",
    "#o produto do dobro do primeiro com metade do segundo .\n",
    "#a soma do triplo do primeiro com o terceiro.\n",
    "#o terceiro elevado ao cubo.\n",
    "\n",
    "numero_int1 = int(input('Primeiro número inteiro: '))\n",
    "numero_int2 = int(input('Segundo número inteiro: '))\n",
    "numero_float = float(input('Número float: '))\n",
    "\n",
    "produto = (numero_int1 * 2) * (numero_int2 / 2)\n",
    "soma = (numero_int1 * 3) + numero_float\n",
    "potencia = pow(numero_float, 3)\n",
    "print(f'Produto: {produto}\\nSoma: {soma} \\nPotência: {round(potencia)}')"
   ]
  },
  {
   "cell_type": "code",
   "execution_count": null,
   "metadata": {},
   "outputs": [],
   "source": [
    "# 12 - Tendo como dados de entrada a altura de uma pessoa, construa um algoritmo que \n",
    "#calcule seu peso ideal, usando a seguinte fórmula: (72.7*altura) - 58\n",
    "\n",
    "def calcula_peso(altura):\n",
    "    return (72.7 * altura) - 58\n",
    "\n",
    "altura_pessoa = float(input('Digite sua altura: '))\n",
    "print(f'Seu peso ideal é: {calcula_peso(altura_pessoa):.2f}Kg')"
   ]
  },
  {
   "cell_type": "code",
   "execution_count": null,
   "metadata": {},
   "outputs": [],
   "source": [
    "# 13 - Tendo como dado de entrada a altura (h) de uma pessoa, \n",
    "# construa um algoritmo que calcule seu peso ideal, utilizando as seguintes fórmulas:\n",
    "# Para homens: (72.7*h) - 58\n",
    "# Para mulheres: (62.1*h) - 44.7\n",
    "\n",
    "def calcula_peso(sexo, altura):\n",
    "    peso = 0\n",
    "    isNumber = type(altura)\n",
    "    if sexo == 'm':\n",
    "        peso = (72.7 * altura) - 58\n",
    "        return peso\n",
    "    elif sexo == 'f':\n",
    "        peso = (62.1 * altura) - 44.7\n",
    "        return peso\n",
    "    elif sexo != 'm' or sexo != 'f':\n",
    "        print('Sexo inválido!')\n",
    "    elif isNumber != float:\n",
    "        print('Digite um número válido!')\n",
    "\n",
    "sexo_pessoa = input('Digite seu sexo [M/F]: '.lower())\n",
    "altura_pessoa2 = float(input('Digite sua altura: '))\n",
    "print(f'Seu peso ideal é: {calcula_peso(sexo_pessoa, altura_pessoa2):.2f}Kg')"
   ]
  },
  {
   "cell_type": "code",
   "execution_count": null,
   "metadata": {},
   "outputs": [],
   "source": [
    "\"\"\"\n",
    "14 - \n",
    "João Papo-de-Pescador, homem de bem, comprou um microcomputador para controlar o \n",
    "rendimento diário de seu trabalho. \n",
    "Toda vez que ele traz um peso de peixes maior que o estabelecido pelo \n",
    "egulamento de pesca do estado de São Paulo (50 quilos) \n",
    "deve pagar uma multa de R$ 4,00 por quilo excedente. \n",
    "João precisa que você faça um programa que leia a variável peso (peso de peixes) e calcule o excesso. \n",
    "Gravar na variável excesso a quantidade de quilos além do limite e na variável multa o \n",
    "valor da multa que João deverá pagar. \n",
    "Imprima os dados do programa com as mensagens adequadas.\n",
    "\"\"\"\n",
    "PESO_MAXIMO = 50\n",
    "\n",
    "def calcula_multa(p):\n",
    "    multa = 0\n",
    "    excesso = p - PESO_MAXIMO\n",
    "    if excesso <= 0:\n",
    "        return print('Não é necessário pagar multa de excesso.')\n",
    "    else:\n",
    "        multa = excesso * 4\n",
    "        return print(f'Total de multa a pagar: R${multa:.2f}')\n",
    "\n",
    "peso_pesca = float(input('Seu João, digite por favor o peso da pesca: '))\n",
    "calcula_multa(peso_pesca)"
   ]
  },
  {
   "cell_type": "code",
   "execution_count": null,
   "metadata": {},
   "outputs": [],
   "source": [
    "\"\"\"\n",
    "15 - Faça um Programa que pergunte quanto você ganha por hora e o número de horas trabalhadas no mês. \n",
    "Calcule e mostre o total do seu salário no referido mês, \n",
    "sabendo-se que são descontados 11% para o Imposto de Renda, \n",
    "8% para o INSS e 5% para o sindicato, faça um programa que nos dê:\n",
    "salário bruto.\n",
    "quanto pagou ao INSS.\n",
    "quanto pagou ao sindicato.\n",
    "o salário líquido.\n",
    "calcule os descontos e o salário líquido, conforme a tabela abaixo:\n",
    "+ Salário Bruto : R$\n",
    "- IR (11%) : R$\n",
    "- INSS (8%) : R$\n",
    "- Sindicato ( 5%) : R$\n",
    "= Salário Liquido : R$\n",
    "Obs.: Salário Bruto - Descontos = Salário Líquido.\n",
    "\"\"\"\n",
    "\n",
    "salario_hora = float(input('Digite seu salário hora: '))\n",
    "horas_trabalhadas_mes = int(input('Digite as horas trabalhadas por mês: '))\n",
    "\n",
    "def calcula_salario_bruto(salarioHora, horasMes):\n",
    "    salarioBruto = salarioHora * horasMes\n",
    "    return salarioBruto\n",
    "\n",
    "\n",
    "salario_bruto = calcula_salario_bruto(salario_hora, horas_trabalhadas_mes)\n",
    "\n",
    "ir = salario_bruto * 0.11\n",
    "inss = salario_bruto * 0.08\n",
    "sind = salario_bruto * 0.05\n",
    "\n",
    "\n",
    "def imprime_contraCheque(salariobruto, ir, inss, sindicato, totalDescontos, salarioliquido):\n",
    "    print('')\n",
    "    print('*' * 10, ' CONTRA CHEQUE ', '*' * 10)\n",
    "    print('')    \n",
    "    print(f'Salário bruto: R${salariobruto}')\n",
    "    print('-' * 10)\n",
    "    print(f'IR (11%): -R${round(ir)}')\n",
    "    print('-' * 10)\n",
    "    print(f'INSS (8%): -R${round(inss)}')\n",
    "    print('-' * 10)\n",
    "    print(f'Sindicato (5%): -R${round(sindicato)}')\n",
    "    print('-' * 10)\n",
    "    print(f'Total de Descontos: -R${round(totalDescontos)}')\n",
    "    print('-' * 10)\n",
    "    print(f'Salário Líquido: R${salarioliquido:.2f}')\n",
    "    print('-' * 10)\n",
    "\n",
    "\n",
    "def calcula_impostos(salarioBruto, ir, inss, sind):\n",
    "    descontos = 0\n",
    "    descontos = ir + inss + sind #421,4\n",
    "    return descontos\n",
    "\n",
    "\n",
    "def calcula_salario_liquido(salarioBruto, descontos):\n",
    "    salarioLiquido = salarioBruto - descontos #1338,6\n",
    "    return salarioLiquido\n",
    "\n",
    "\n",
    "\n",
    "impostos = calcula_impostos(salario_bruto, ir, inss, sind)\n",
    "\n",
    "salario_liquido = calcula_salario_liquido(salario_bruto, impostos)\n",
    "\n",
    "imprime_contraCheque(salario_bruto, ir, inss, sind, impostos, salario_liquido)\n"
   ]
  },
  {
   "cell_type": "code",
   "execution_count": 19,
   "metadata": {},
   "outputs": [
    {
     "name": "stdout",
     "output_type": "stream",
     "text": [
      "Digite a área a ser pintada (em m²): 100\n",
      "\n",
      "Litros: 33 \n",
      "Quantidade: 2 \n",
      "Preço Total: R$160.00\n"
     ]
    }
   ],
   "source": [
    "# 16 - Faça um programa para uma loja de tintas. O programa deverá pedir o \n",
    "# tamanho em metros quadrados da área a ser pintada. Considere que a cobertura \n",
    "# da tinta é de 1 litro para cada 3 metros quadrados e que a tinta é vendida em \n",
    "# latas de 18 litros, que custam R$ 80,00. \n",
    "# Informe ao usuário a quantidades de latas de tinta a serem compradas e o preço total.\n",
    "\n",
    "from math import ceil\n",
    "\n",
    "LATA_TINTA = 18 # cada lata de tinta tem 18 litros\n",
    "VALOR_LATA = 80.00 # valor de cada lata\n",
    "\n",
    "def calcula_tinta(parede): # Calcula o quantos litros de tinta é preciso para pintar a parede\n",
    "    litros = parede // 3 # 3 são quantos metros são pintados com cada litro de tinta\n",
    "    return litros\n",
    "\n",
    "\n",
    "def calcula_latas(litros): # Calcula a quantidade de latas que é preciso comprar\n",
    "    if litros <= 18: #Caso seja menos que 18 litros\n",
    "        print('É preciso somente uma lata')\n",
    "        return 1\n",
    "    else:\n",
    "        quantidade = litros / LATA_TINTA\n",
    "        quantidade = ceil(quantidade) #Arredondamento para cima\n",
    "        return quantidade\n",
    "    \n",
    "\n",
    "def calcula_preco(quantidade): # Calcula o valor total das latas\n",
    "    valor_total = VALOR_LATA * quantidade\n",
    "    return valor_total\n",
    "\n",
    "\n",
    "tamanho_parede = int(input('Digite a área a ser pintada (em m²): '))\n",
    "print('')\n",
    "litros = calcula_tinta(tamanho_parede)\n",
    "quantidade = calcula_latas(litros)\n",
    "precoTotal = calcula_preco(quantidade)\n",
    "print(f'Litros: {litros} \\nQuantidade: {quantidade} \\nPreço Total: R${precoTotal:.2f}')"
   ]
  },
  {
   "cell_type": "code",
   "execution_count": null,
   "metadata": {},
   "outputs": [],
   "source": []
  }
 ],
 "metadata": {
  "kernelspec": {
   "display_name": "Python 3",
   "language": "python",
   "name": "python3"
  },
  "language_info": {
   "codemirror_mode": {
    "name": "ipython",
    "version": 3
   },
   "file_extension": ".py",
   "mimetype": "text/x-python",
   "name": "python",
   "nbconvert_exporter": "python",
   "pygments_lexer": "ipython3",
   "version": "3.7.6"
  }
 },
 "nbformat": 4,
 "nbformat_minor": 4
}
