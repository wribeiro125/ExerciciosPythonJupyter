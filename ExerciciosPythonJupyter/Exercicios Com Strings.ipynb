{
 "cells": [
  {
   "cell_type": "markdown",
   "metadata": {},
   "source": [
    "# Exercicios Com Strings"
   ]
  },
  {
   "cell_type": "code",
   "execution_count": null,
   "metadata": {},
   "outputs": [],
   "source": [
    "# 1 - Tamanho de strings. Faça um programa que leia 2 strings e \n",
    "# informe o conteúdo delas seguido do seu comprimento. \n",
    "# Informe também se as duas strings possuem o mesmo comprimento e \n",
    "# são iguais ou diferentes no conteúdo.\n",
    "\n",
    "string1 = input('Primeira string: ')\n",
    "string2 = input('Segunda string: ')\n",
    "print('-' * 5)\n",
    "\n",
    "tamanho1 = len(string1)\n",
    "tamanho2 = len(string2)\n",
    "\n",
    "\n",
    "print(f'Primeira string: {string1}')\n",
    "print(f'Tamanho da Primeira string: {tamanho1}')\n",
    "print('')\n",
    "print(f'Segunda string: {string2}')\n",
    "print(f'Tamanho da Segunda string: {tamanho2}')\n",
    "print('')\n",
    "if tamanho1 == tamanho2:\n",
    "    print('As strings possuem o mesmo comprimento')\n",
    "else:\n",
    "    print('Possuem comprimentos diferentes')\n",
    "\n",
    "if string1 == string2:\n",
    "    print('Possuem o mesmo conteúdo!')\n",
    "else:\n",
    "    print('São diferentes!')"
   ]
  },
  {
   "cell_type": "code",
   "execution_count": 25,
   "metadata": {},
   "outputs": [
    {
     "name": "stdout",
     "output_type": "stream",
     "text": [
      "Nome: will\n",
      "LLIW"
     ]
    }
   ],
   "source": [
    "# 2 - Nome ao contrário em maiúsculas. \n",
    "# Faça um programa que permita ao usuário digitar o seu nome e em seguida mostre o \n",
    "# nome do usuário de trás para frente utilizando somente letras maiúsculas. \n",
    "# Dica: lembre−se que ao informar o nome o usuário pode digitar letras maiúsculas ou minúsculas.\n",
    "\n",
    "nome = input('Nome: ').upper()\n",
    "for i in reversed(nome):\n",
    "    print(i, end='')\n"
   ]
  },
  {
   "cell_type": "code",
   "execution_count": null,
   "metadata": {},
   "outputs": [],
   "source": [
    "# 4 - Nome na vertical. Faça um programa que solicite o nome do usuário e imprima-o na vertical.\n",
    "nome = input('Nome: ').upper()\n",
    "for n in nome:\n",
    "    print(n)"
   ]
  },
  {
   "cell_type": "code",
   "execution_count": 6,
   "metadata": {},
   "outputs": [
    {
     "name": "stdout",
     "output_type": "stream",
     "text": [
      "Nome: willian\n",
      "W\n",
      "WI\n",
      "WIL\n",
      "WILL\n",
      "WILLI\n",
      "WILLIA\n",
      "WILLIAN\n"
     ]
    }
   ],
   "source": [
    "# 4 - Nome na vertical em escada. \n",
    "# Modifique o programa anterior de forma \n",
    "# a mostrar o nome em formato de escada.\n",
    "\n",
    "nome2 = input('Nome: ').upper()\n",
    "print('')\n",
    "palavra = ''\n",
    "for i in nome2:\n",
    "    tam = i.index(i)\n",
    "    palavra += i[tam]\n",
    "    print(palavra, end = '\\n')"
   ]
  },
  {
   "cell_type": "code",
   "execution_count": 46,
   "metadata": {},
   "outputs": [
    {
     "name": "stdout",
     "output_type": "stream",
     "text": [
      "Nome: ss\n",
      "\n"
     ]
    },
    {
     "ename": "TypeError",
     "evalue": "unsupported operand type(s) for -=: 'str' and 'str'",
     "output_type": "error",
     "traceback": [
      "\u001b[1;31m---------------------------------------------------------------------------\u001b[0m",
      "\u001b[1;31mTypeError\u001b[0m                                 Traceback (most recent call last)",
      "\u001b[1;32m<ipython-input-46-fd2266bc5e6e>\u001b[0m in \u001b[0;36m<module>\u001b[1;34m\u001b[0m\n\u001b[0;32m      7\u001b[0m \u001b[1;32mfor\u001b[0m \u001b[0mi\u001b[0m \u001b[1;32min\u001b[0m \u001b[0mrange\u001b[0m\u001b[1;33m(\u001b[0m\u001b[1;36m0\u001b[0m\u001b[1;33m,\u001b[0m \u001b[0mtamanho\u001b[0m\u001b[1;33m)\u001b[0m\u001b[1;33m:\u001b[0m\u001b[1;33m\u001b[0m\u001b[1;33m\u001b[0m\u001b[0m\n\u001b[0;32m      8\u001b[0m     \u001b[0mpalavra\u001b[0m \u001b[1;33m=\u001b[0m \u001b[0mnome3\u001b[0m\u001b[1;33m\u001b[0m\u001b[1;33m\u001b[0m\u001b[0m\n\u001b[1;32m----> 9\u001b[1;33m     \u001b[0mpalavra\u001b[0m \u001b[1;33m-=\u001b[0m \u001b[0mpalavra\u001b[0m\u001b[1;33m[\u001b[0m\u001b[1;33m:\u001b[0m\u001b[1;33m-\u001b[0m\u001b[1;36m1\u001b[0m\u001b[1;33m]\u001b[0m\u001b[1;33m\u001b[0m\u001b[1;33m\u001b[0m\u001b[0m\n\u001b[0m\u001b[0;32m     10\u001b[0m     \u001b[0mprint\u001b[0m\u001b[1;33m(\u001b[0m\u001b[0mpalavra\u001b[0m\u001b[1;33m,\u001b[0m \u001b[0mend\u001b[0m \u001b[1;33m=\u001b[0m \u001b[1;34m'\\n'\u001b[0m\u001b[1;33m)\u001b[0m\u001b[1;33m\u001b[0m\u001b[1;33m\u001b[0m\u001b[0m\n",
      "\u001b[1;31mTypeError\u001b[0m: unsupported operand type(s) for -=: 'str' and 'str'"
     ]
    }
   ],
   "source": [
    "# 5 - Nome na vertical em escada invertida. \n",
    "# Altere o programa anterior de modo que a escada seja invertida.\n",
    "\n",
    "nome3 = input('Nome: ').upper()\n",
    "print('')\n",
    "tamanho = len(nome3)\n",
    "for i in range(0, tamanho):\n",
    "    palavra = nome3\n",
    "    palavra -= palavra[:-1]\n",
    "    print(palavra, end = '\\n')"
   ]
  },
  {
   "cell_type": "code",
   "execution_count": 51,
   "metadata": {},
   "outputs": [
    {
     "name": "stdout",
     "output_type": "stream",
     "text": [
      "Frase: Dado uma string com uma frase informada pelo usuário (incluindo espaços em branco), conte\n",
      "Espaços: 13\n",
      "Vogais: 32\n"
     ]
    }
   ],
   "source": [
    "# 7 - Conta espaços e vogais. Dado uma string com uma frase informada \n",
    "# pelo usuário (incluindo espaços em branco), conte:\n",
    "# - quantos espaços em branco existem na frase.\n",
    "# - quantas vezes aparecem as vogais a, e, i, o, u.\n",
    "conta_vogais = 0\n",
    "conta_espacos = 0\n",
    "\n",
    "frase = input('Frase: ')\n",
    "conta_espacos = frase.count(' ')\n",
    "conta_vogais += frase.count('a')\n",
    "conta_vogais += frase.count('e')\n",
    "conta_vogais += frase.count('i')\n",
    "conta_vogais += frase.count('o')\n",
    "conta_vogais += frase.count('u')\n",
    "print(f'Espaços: {conta_espacos}')\n",
    "print(f'Vogais: {conta_vogais}')"
   ]
  },
  {
   "cell_type": "code",
   "execution_count": 66,
   "metadata": {},
   "outputs": [
    {
     "name": "stdout",
     "output_type": "stream",
     "text": [
      "CPF [xxx.xxx.xxx-xx]: 123.456.789-00\n"
     ]
    },
    {
     "data": {
      "text/plain": [
       "' '"
      ]
     },
     "execution_count": 66,
     "metadata": {},
     "output_type": "execute_result"
    }
   ],
   "source": [
    "# 9 - Verificação de CPF. \n",
    "# Desenvolva um programa que solicite a digitação de um número de CPF no \n",
    "# formato xxx.xxx.xxx-xx e indique se é um número válido ou inválido \n",
    "# através da validação dos dígitos verificadores e dos caracteres de formatação.\n",
    "\n",
    "#fazer dps\n",
    "cpf = input('CPF [xxx.xxx.xxx-xx]: ')\n",
    "\n",
    "for i in cpf:\n",
    "    "
   ]
  },
  {
   "cell_type": "code",
   "execution_count": null,
   "metadata": {},
   "outputs": [],
   "source": [
    "# 11 - Jogo de Forca. \n",
    "# Desenvolva um jogo da forca. \n",
    "# O programa terá uma lista de palavras lidas de um arquivo texto e \n",
    "# escolherá uma aleatoriamente. O jogador poderá errar 6 vezes antes de ser enforcado."
   ]
  }
 ],
 "metadata": {
  "kernelspec": {
   "display_name": "Python 3",
   "language": "python",
   "name": "python3"
  },
  "language_info": {
   "codemirror_mode": {
    "name": "ipython",
    "version": 3
   },
   "file_extension": ".py",
   "mimetype": "text/x-python",
   "name": "python",
   "nbconvert_exporter": "python",
   "pygments_lexer": "ipython3",
   "version": "3.7.6"
  }
 },
 "nbformat": 4,
 "nbformat_minor": 4
}
